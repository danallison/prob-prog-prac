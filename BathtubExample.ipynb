{
 "cells": [
  {
   "cell_type": "markdown",
   "metadata": {},
   "source": [
    "# Bathtub Simulation\n",
    "\n",
    "This example simulates the filling of a bathtub.\n",
    "\n",
    "Variables:\n",
    "\n",
    "- `capacity`: how much water the tub can contain\n",
    "- `inflow_rate`: how much water is added per unit time\n",
    "- `outflow_rate`: how much water goes down the drain per unit time"
   ]
  },
  {
   "cell_type": "code",
   "execution_count": 1,
   "metadata": {},
   "outputs": [],
   "source": [
    "import torch\n",
    "import pyro\n",
    "from pyro.distributions import Normal, HalfNormal\n",
    "import matplotlib.pyplot as plt\n",
    "%matplotlib inline\n",
    "pyro.set_rng_seed(42)"
   ]
  },
  {
   "cell_type": "markdown",
   "metadata": {},
   "source": [
    "## How long will it take to fill up the tub?"
   ]
  },
  {
   "cell_type": "code",
   "execution_count": 2,
   "metadata": {},
   "outputs": [],
   "source": [
    "def time_to_fill():\n",
    "    capacity = pyro.sample('capacity', Normal(170.0, 40.0))\n",
    "    inflow_rate = pyro.sample('inflow_rate', HalfNormal(1.0))\n",
    "    # Inflow is assumed to be at least 1.0\n",
    "    inflow_rate = 1.0 + inflow_rate\n",
    "    outflow_rate = pyro.sample('outflow_rate', HalfNormal(0.2))\n",
    "    # Outflow is assumed to be near zero and always less than inflow\n",
    "    outflow_rate = min(outflow_rate, inflow_rate - 0.001)\n",
    "    time = capacity / (inflow_rate - outflow_rate)\n",
    "    return pyro.sample('time', Normal(time, 0.00001))"
   ]
  },
  {
   "cell_type": "code",
   "execution_count": 3,
   "metadata": {},
   "outputs": [
    {
     "data": {
      "text/plain": [
       "tensor(119.6077)"
      ]
     },
     "execution_count": 3,
     "metadata": {},
     "output_type": "execute_result"
    }
   ],
   "source": [
    "posterior = pyro.infer.Importance(time_to_fill, num_samples=1000)\n",
    "marginal = pyro.infer.EmpiricalMarginal(posterior.run(), sites='time')\n",
    "samples = torch.tensor([marginal().item() for _ in range(1000)])\n",
    "torch.mean(samples)"
   ]
  },
  {
   "cell_type": "code",
   "execution_count": 4,
   "metadata": {},
   "outputs": [
    {
     "data": {
      "image/png": "[encoded data removed]",
      "text/plain": [
       "<Figure size 432x288 with 1 Axes>"
      ]
     },
     "metadata": {
      "needs_background": "light"
     },
     "output_type": "display_data"
    }
   ],
   "source": [
    "plt.hist(samples)\n",
    "plt.vlines(torch.mean(samples), 0, 250, linestyles='dashed', colors='black');"
   ]
  },
  {
   "cell_type": "markdown",
   "metadata": {},
   "source": [
    "## If we already know the size of the bathtub ..."
   ]
  },
  {
   "cell_type": "code",
   "execution_count": 5,
   "metadata": {},
   "outputs": [],
   "source": [
    "conditioned_time_to_fill = pyro.condition(time_to_fill, data={'capacity': torch.tensor(350.)})"
   ]
  },
  {
   "cell_type": "code",
   "execution_count": 6,
   "metadata": {},
   "outputs": [
    {
     "data": {
      "text/plain": [
       "tensor(249.7917)"
      ]
     },
     "execution_count": 6,
     "metadata": {},
     "output_type": "execute_result"
    }
   ],
   "source": [
    "posterior = pyro.infer.Importance(conditioned_time_to_fill, num_samples=1000)\n",
    "marginal = pyro.infer.EmpiricalMarginal(posterior.run(), sites='time')\n",
    "samples = torch.tensor([marginal().item() for _ in range(1000)])\n",
    "torch.mean(samples)"
   ]
  },
  {
   "cell_type": "code",
   "execution_count": 7,
   "metadata": {},
   "outputs": [
    {
     "data": {
      "image/png": "[encoded data removed]",
      "text/plain": [
       "<Figure size 432x288 with 1 Axes>"
      ]
     },
     "metadata": {
      "needs_background": "light"
     },
     "output_type": "display_data"
    }
   ],
   "source": [
    "plt.hist(samples)\n",
    "plt.vlines(torch.mean(samples), 0, 250, linestyles='dashed', colors='black');"
   ]
  },
  {
   "cell_type": "markdown",
   "metadata": {},
   "source": [
    "## If we have observed a fill time and want to infer the capacity, etc."
   ]
  },
  {
   "cell_type": "code",
   "execution_count": 8,
   "metadata": {},
   "outputs": [],
   "source": [
    "observed_time = torch.tensor(300.)"
   ]
  },
  {
   "cell_type": "code",
   "execution_count": 9,
   "metadata": {},
   "outputs": [],
   "source": [
    "conditioned_time_to_fill = pyro.condition(time_to_fill, data={'time': observed_time })"
   ]
  },
  {
   "cell_type": "code",
   "execution_count": 10,
   "metadata": {},
   "outputs": [],
   "source": [
    "posterior = pyro.infer.Importance(conditioned_time_to_fill, num_samples=1000)\n",
    "marginal = pyro.infer.EmpiricalMarginal(posterior.run(), sites=['capacity', 'inflow_rate', 'outflow_rate'])"
   ]
  },
  {
   "cell_type": "code",
   "execution_count": 11,
   "metadata": {},
   "outputs": [
    {
     "data": {
      "text/plain": [
       "(tensor(298.5624), tensor(300.))"
      ]
     },
     "execution_count": 11,
     "metadata": {},
     "output_type": "execute_result"
    }
   ],
   "source": [
    "capacity, inflow_rate, outflow_rate = marginal()\n",
    "predicted_time = (capacity / (1.0 + inflow_rate - outflow_rate))\n",
    "predicted_time, observed_time"
   ]
  },
  {
   "cell_type": "code",
   "execution_count": 13,
   "metadata": {},
   "outputs": [
    {
     "data": {
      "text/plain": [
       "(tensor(241.1679), tensor(1.0936), tensor(0.2859))"
      ]
     },
     "execution_count": 13,
     "metadata": {},
     "output_type": "execute_result"
    }
   ],
   "source": [
    "capacity, 1.0 + inflow_rate, outflow_rate"
   ]
  },
  {
   "cell_type": "code",
   "execution_count": null,
   "metadata": {},
   "outputs": [],
   "source": []
  }
 ],
 "metadata": {
  "kernelspec": {
   "display_name": "Python 3",
   "language": "python",
   "name": "python3"
  },
  "language_info": {
   "codemirror_mode": {
    "name": "ipython",
    "version": 3
   },
   "file_extension": ".py",
   "mimetype": "text/x-python",
   "name": "python",
   "nbconvert_exporter": "python",
   "pygments_lexer": "ipython3",
   "version": "3.6.6"
  }
 },
 "nbformat": 4,
 "nbformat_minor": 2
}
